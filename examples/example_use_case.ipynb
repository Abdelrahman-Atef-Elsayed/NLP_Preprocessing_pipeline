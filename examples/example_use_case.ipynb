{
 "cells": [
  {
   "cell_type": "code",
   "execution_count": null,
   "id": "afb0ae33",
   "metadata": {
    "vscode": {
     "languageId": "plaintext"
    }
   },
   "outputs": [],
   "source": [
    "import pandas as pd\n",
    "from nlp_pipeline.preprocessor import TextPreprocessor\n",
    "\n",
    "# Sample dataset\n",
    "data = {\n",
    "    'text': [\n",
    "        \"This is a sample sentence!\",\n",
    "        \"Here's another one, with punctuation.\",\n",
    "        \"Running, ran, and runs should be lemmatized.\"\n",
    "    ]\n",
    "}\n",
    "\n",
    "df = pd.DataFrame(data)\n",
    "\n",
    "# Run preprocessing\n",
    "pre = TextPreprocessor()\n",
    "df[\"clean_text\"] = pre.transform(df[\"text\"])\n",
    "\n",
    "df\n"
   ]
  }
 ],
 "metadata": {
  "language_info": {
   "name": "python"
  }
 },
 "nbformat": 4,
 "nbformat_minor": 5
}
