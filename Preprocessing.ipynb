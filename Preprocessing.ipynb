{
 "cells": [
  {
   "cell_type": "code",
   "execution_count": 7,
   "id": "7762c882",
   "metadata": {},
   "outputs": [
    {
     "name": "stdout",
     "output_type": "stream",
     "text": [
      "['hey', 'testing', 'nlp', 'pipeline', 'url', 'contraction', 'like', 'number', '1234']\n"
     ]
    },
    {
     "name": "stderr",
     "output_type": "stream",
     "text": [
      "[nltk_data] Downloading package punkt to\n",
      "[nltk_data]     C:\\Users\\bodya\\AppData\\Roaming\\nltk_data...\n",
      "[nltk_data]   Package punkt is already up-to-date!\n",
      "[nltk_data] Downloading package stopwords to\n",
      "[nltk_data]     C:\\Users\\bodya\\AppData\\Roaming\\nltk_data...\n",
      "[nltk_data]   Package stopwords is already up-to-date!\n",
      "[nltk_data] Downloading package wordnet to\n",
      "[nltk_data]     C:\\Users\\bodya\\AppData\\Roaming\\nltk_data...\n",
      "[nltk_data]   Package wordnet is already up-to-date!\n"
     ]
    }
   ],
   "source": [
    "# NLP Preprocessing Pipeline (Generalized Python Template)\n",
    "# ---------------------------------------------------------\n",
    "# This script includes a generalized preprocessing pipeline for text data in NLP tasks.\n",
    "# It is designed for reuse in projects like classification, sentiment analysis, topic modeling, etc.\n",
    "# To use: just copy and paste into your project and call preprocess_text(text).\n",
    "\n",
    "import re\n",
    "import nltk\n",
    "import contractions\n",
    "from nltk.corpus import stopwords\n",
    "from nltk.tokenize import word_tokenize\n",
    "from nltk.stem import WordNetLemmatizer\n",
    "\n",
    "# Download necessary resources (only run once)\n",
    "nltk.download('punkt')\n",
    "nltk.download('stopwords')\n",
    "nltk.download('wordnet')\n",
    "\n",
    "# Initialize resources\n",
    "stop_words = set(stopwords.words('english'))\n",
    "lemmatizer = WordNetLemmatizer()\n",
    "\n",
    "\n",
    "def preprocess_text(text):\n",
    "    \"\"\"\n",
    "    Applies a full preprocessing pipeline to input text.\n",
    "\n",
    "    Steps:\n",
    "    1. Remove HTML tags\n",
    "    2. Convert to lowercase\n",
    "    3. Expand contractions\n",
    "    4. Remove URLs\n",
    "    5. Remove punctuation & special characters\n",
    "    6. Remove extra whitespace\n",
    "    7. Tokenize\n",
    "    8. Remove stop words\n",
    "    9. Lemmatize tokens\n",
    "\n",
    "    Returns:\n",
    "        List of clean tokens\n",
    "    \"\"\"\n",
    "\n",
    "    # 1. Remove HTML tags\n",
    "    text = re.sub(r'<.*?>', '', text)\n",
    "\n",
    "    # 2. Lowercase\n",
    "    text = text.lower()\n",
    "\n",
    "    # 3. Expand contractions (e.g., don't -> do not)\n",
    "    text = contractions.fix(text)\n",
    "\n",
    "    # 4. Remove URLs\n",
    "    text = re.sub(r'http\\S+|www\\S+|https\\S+', '', text)\n",
    "\n",
    "    # 5. Remove punctuation and special characters\n",
    "    text = re.sub(r'[^a-zA-Z0-9\\s]', '', text)\n",
    "\n",
    "    # 6. Remove extra whitespaces\n",
    "    text = ' '.join(text.split())\n",
    "\n",
    "    # 7. Tokenize\n",
    "    tokens = word_tokenize(text)\n",
    "\n",
    "    # 8. Remove stop words\n",
    "    tokens = [word for word in tokens if word not in stop_words]\n",
    "\n",
    "    # 9. Lemmatize\n",
    "    tokens = [lemmatizer.lemmatize(word) for word in tokens]\n",
    "\n",
    "    return tokens\n",
    "\n",
    "# Example usage\n",
    "if __name__ == \"__main__\":\n",
    "    sample = \"\"\"<p>Hey! I'm testing this NLP pipeline with a URL: https://example.com,\n",
    "    some contractions like don't, and some numbers 1234.</p>\"\"\"\n",
    "    print(preprocess_text(sample))\n"
   ]
  }
 ],
 "metadata": {
  "kernelspec": {
   "display_name": "Python 3",
   "language": "python",
   "name": "python3"
  },
  "language_info": {
   "codemirror_mode": {
    "name": "ipython",
    "version": 3
   },
   "file_extension": ".py",
   "mimetype": "text/x-python",
   "name": "python",
   "nbconvert_exporter": "python",
   "pygments_lexer": "ipython3",
   "version": "3.12.3"
  }
 },
 "nbformat": 4,
 "nbformat_minor": 5
}
